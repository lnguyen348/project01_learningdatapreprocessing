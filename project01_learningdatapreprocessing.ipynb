{
 "cells": [
  {
   "cell_type": "markdown",
   "metadata": {},
   "source": [
    "# Analyzing borrowers’ risk of defaulting\n",
    "\n",
    ">Purpose: to prepare a report for a bank’s loan division by determining if a customer’s marital status, income level, and/or number of children has an impact on whether they will default on a loan."
   ]
  },
  {
   "cell_type": "markdown",
   "metadata": {},
   "source": [
    "# Summary\n",
    "\n",
    "A report for a bank's loan division is prepared to analyze borrowers' risk of defaulting by determining if a customer’s marital status, income level, and/or number of children has an impact.\n",
    "\n",
    "Real number data types were changed to integer types for a cleaner look to the values. Additionally, missing values were noticed in the variables 'days_employed' and 'total_income' which were replaced with each respective column's median value to reduce a significant effect on the median and mean values (in contrast if the missing values were replaced with 0). Negative values for 'days_employed' were changed to 0. Furthermore, the variables 'family_status', 'purpose', 'total_income', and 'children' were simplified further and put into categories for better organization and data presentation.\n",
    "\n",
    "In terms of influence on repaying a loan on time, the relationship between having children and the aforementioned, according to the data, is that the more children a family has the more likely an applicant will repay a loan on time. In the same fashion, applicants who are married or unmarried are less likely to repay a loan on time as compared to applicants who are divorced or widowed. The data also showed that applicants that have a total income between $10,001−$30,000 are less likely to repay a loan on time, and those making between $30,001-$50,000 are also not likely to repay a loan on time, however not as much as the aforementioned applicants—the applicants that have a higher possibility of repaying a loan on time have a total income of up to $10,000. Of the borrowers who apply for a particular type of loan in the order of most likely to least likely to repay a loan in a timely manner are: wedding, housing, education, car, real estate."
   ]
  },
  {
   "cell_type": "markdown",
   "metadata": {},
   "source": [
    "## Open the data file and have a look at the general information. "
   ]
  },
  {
   "cell_type": "code",
   "execution_count": 1,
   "metadata": {},
   "outputs": [
    {
     "name": "stdout",
     "output_type": "stream",
     "text": [
      "<class 'pandas.core.frame.DataFrame'>\n",
      "RangeIndex: 21525 entries, 0 to 21524\n",
      "Data columns (total 12 columns):\n",
      "children            21525 non-null int64\n",
      "days_employed       19351 non-null float64\n",
      "dob_years           21525 non-null int64\n",
      "education           21525 non-null object\n",
      "education_id        21525 non-null int64\n",
      "family_status       21525 non-null object\n",
      "family_status_id    21525 non-null int64\n",
      "gender              21525 non-null object\n",
      "income_type         21525 non-null object\n",
      "debt                21525 non-null int64\n",
      "total_income        19351 non-null float64\n",
      "purpose             21525 non-null object\n",
      "dtypes: float64(2), int64(5), object(5)\n",
      "memory usage: 2.0+ MB\n"
     ]
    },
    {
     "data": {
      "text/html": [
       "<div>\n",
       "<style scoped>\n",
       "    .dataframe tbody tr th:only-of-type {\n",
       "        vertical-align: middle;\n",
       "    }\n",
       "\n",
       "    .dataframe tbody tr th {\n",
       "        vertical-align: top;\n",
       "    }\n",
       "\n",
       "    .dataframe thead th {\n",
       "        text-align: right;\n",
       "    }\n",
       "</style>\n",
       "<table border=\"1\" class=\"dataframe\">\n",
       "  <thead>\n",
       "    <tr style=\"text-align: right;\">\n",
       "      <th></th>\n",
       "      <th>children</th>\n",
       "      <th>days_employed</th>\n",
       "      <th>dob_years</th>\n",
       "      <th>education</th>\n",
       "      <th>education_id</th>\n",
       "      <th>family_status</th>\n",
       "      <th>family_status_id</th>\n",
       "      <th>gender</th>\n",
       "      <th>income_type</th>\n",
       "      <th>debt</th>\n",
       "      <th>total_income</th>\n",
       "      <th>purpose</th>\n",
       "    </tr>\n",
       "  </thead>\n",
       "  <tbody>\n",
       "    <tr>\n",
       "      <td>0</td>\n",
       "      <td>1</td>\n",
       "      <td>-8437.673028</td>\n",
       "      <td>42</td>\n",
       "      <td>bachelor's degree</td>\n",
       "      <td>0</td>\n",
       "      <td>married</td>\n",
       "      <td>0</td>\n",
       "      <td>F</td>\n",
       "      <td>employee</td>\n",
       "      <td>0</td>\n",
       "      <td>40620.102</td>\n",
       "      <td>purchase of the house</td>\n",
       "    </tr>\n",
       "    <tr>\n",
       "      <td>1</td>\n",
       "      <td>1</td>\n",
       "      <td>-4024.803754</td>\n",
       "      <td>36</td>\n",
       "      <td>secondary education</td>\n",
       "      <td>1</td>\n",
       "      <td>married</td>\n",
       "      <td>0</td>\n",
       "      <td>F</td>\n",
       "      <td>employee</td>\n",
       "      <td>0</td>\n",
       "      <td>17932.802</td>\n",
       "      <td>car purchase</td>\n",
       "    </tr>\n",
       "    <tr>\n",
       "      <td>2</td>\n",
       "      <td>0</td>\n",
       "      <td>-5623.422610</td>\n",
       "      <td>33</td>\n",
       "      <td>Secondary Education</td>\n",
       "      <td>1</td>\n",
       "      <td>married</td>\n",
       "      <td>0</td>\n",
       "      <td>M</td>\n",
       "      <td>employee</td>\n",
       "      <td>0</td>\n",
       "      <td>23341.752</td>\n",
       "      <td>purchase of the house</td>\n",
       "    </tr>\n",
       "    <tr>\n",
       "      <td>3</td>\n",
       "      <td>3</td>\n",
       "      <td>-4124.747207</td>\n",
       "      <td>32</td>\n",
       "      <td>secondary education</td>\n",
       "      <td>1</td>\n",
       "      <td>married</td>\n",
       "      <td>0</td>\n",
       "      <td>M</td>\n",
       "      <td>employee</td>\n",
       "      <td>0</td>\n",
       "      <td>42820.568</td>\n",
       "      <td>supplementary education</td>\n",
       "    </tr>\n",
       "    <tr>\n",
       "      <td>4</td>\n",
       "      <td>0</td>\n",
       "      <td>340266.072047</td>\n",
       "      <td>53</td>\n",
       "      <td>secondary education</td>\n",
       "      <td>1</td>\n",
       "      <td>civil partnership</td>\n",
       "      <td>1</td>\n",
       "      <td>F</td>\n",
       "      <td>retiree</td>\n",
       "      <td>0</td>\n",
       "      <td>25378.572</td>\n",
       "      <td>to have a wedding</td>\n",
       "    </tr>\n",
       "    <tr>\n",
       "      <td>...</td>\n",
       "      <td>...</td>\n",
       "      <td>...</td>\n",
       "      <td>...</td>\n",
       "      <td>...</td>\n",
       "      <td>...</td>\n",
       "      <td>...</td>\n",
       "      <td>...</td>\n",
       "      <td>...</td>\n",
       "      <td>...</td>\n",
       "      <td>...</td>\n",
       "      <td>...</td>\n",
       "      <td>...</td>\n",
       "    </tr>\n",
       "    <tr>\n",
       "      <td>21520</td>\n",
       "      <td>1</td>\n",
       "      <td>-4529.316663</td>\n",
       "      <td>43</td>\n",
       "      <td>secondary education</td>\n",
       "      <td>1</td>\n",
       "      <td>civil partnership</td>\n",
       "      <td>1</td>\n",
       "      <td>F</td>\n",
       "      <td>business</td>\n",
       "      <td>0</td>\n",
       "      <td>35966.698</td>\n",
       "      <td>housing transactions</td>\n",
       "    </tr>\n",
       "    <tr>\n",
       "      <td>21521</td>\n",
       "      <td>0</td>\n",
       "      <td>343937.404131</td>\n",
       "      <td>67</td>\n",
       "      <td>secondary education</td>\n",
       "      <td>1</td>\n",
       "      <td>married</td>\n",
       "      <td>0</td>\n",
       "      <td>F</td>\n",
       "      <td>retiree</td>\n",
       "      <td>0</td>\n",
       "      <td>24959.969</td>\n",
       "      <td>purchase of a car</td>\n",
       "    </tr>\n",
       "    <tr>\n",
       "      <td>21522</td>\n",
       "      <td>1</td>\n",
       "      <td>-2113.346888</td>\n",
       "      <td>38</td>\n",
       "      <td>secondary education</td>\n",
       "      <td>1</td>\n",
       "      <td>civil partnership</td>\n",
       "      <td>1</td>\n",
       "      <td>M</td>\n",
       "      <td>employee</td>\n",
       "      <td>1</td>\n",
       "      <td>14347.610</td>\n",
       "      <td>property</td>\n",
       "    </tr>\n",
       "    <tr>\n",
       "      <td>21523</td>\n",
       "      <td>3</td>\n",
       "      <td>-3112.481705</td>\n",
       "      <td>38</td>\n",
       "      <td>secondary education</td>\n",
       "      <td>1</td>\n",
       "      <td>married</td>\n",
       "      <td>0</td>\n",
       "      <td>M</td>\n",
       "      <td>employee</td>\n",
       "      <td>1</td>\n",
       "      <td>39054.888</td>\n",
       "      <td>buying my own car</td>\n",
       "    </tr>\n",
       "    <tr>\n",
       "      <td>21524</td>\n",
       "      <td>2</td>\n",
       "      <td>-1984.507589</td>\n",
       "      <td>40</td>\n",
       "      <td>secondary education</td>\n",
       "      <td>1</td>\n",
       "      <td>married</td>\n",
       "      <td>0</td>\n",
       "      <td>F</td>\n",
       "      <td>employee</td>\n",
       "      <td>0</td>\n",
       "      <td>13127.587</td>\n",
       "      <td>to buy a car</td>\n",
       "    </tr>\n",
       "  </tbody>\n",
       "</table>\n",
       "<p>21525 rows × 12 columns</p>\n",
       "</div>"
      ],
      "text/plain": [
       "       children  days_employed  dob_years            education  education_id  \\\n",
       "0             1   -8437.673028         42    bachelor's degree             0   \n",
       "1             1   -4024.803754         36  secondary education             1   \n",
       "2             0   -5623.422610         33  Secondary Education             1   \n",
       "3             3   -4124.747207         32  secondary education             1   \n",
       "4             0  340266.072047         53  secondary education             1   \n",
       "...         ...            ...        ...                  ...           ...   \n",
       "21520         1   -4529.316663         43  secondary education             1   \n",
       "21521         0  343937.404131         67  secondary education             1   \n",
       "21522         1   -2113.346888         38  secondary education             1   \n",
       "21523         3   -3112.481705         38  secondary education             1   \n",
       "21524         2   -1984.507589         40  secondary education             1   \n",
       "\n",
       "           family_status  family_status_id gender income_type  debt  \\\n",
       "0                married                 0      F    employee     0   \n",
       "1                married                 0      F    employee     0   \n",
       "2                married                 0      M    employee     0   \n",
       "3                married                 0      M    employee     0   \n",
       "4      civil partnership                 1      F     retiree     0   \n",
       "...                  ...               ...    ...         ...   ...   \n",
       "21520  civil partnership                 1      F    business     0   \n",
       "21521            married                 0      F     retiree     0   \n",
       "21522  civil partnership                 1      M    employee     1   \n",
       "21523            married                 0      M    employee     1   \n",
       "21524            married                 0      F    employee     0   \n",
       "\n",
       "       total_income                  purpose  \n",
       "0         40620.102    purchase of the house  \n",
       "1         17932.802             car purchase  \n",
       "2         23341.752    purchase of the house  \n",
       "3         42820.568  supplementary education  \n",
       "4         25378.572        to have a wedding  \n",
       "...             ...                      ...  \n",
       "21520     35966.698     housing transactions  \n",
       "21521     24959.969        purchase of a car  \n",
       "21522     14347.610                 property  \n",
       "21523     39054.888        buying my own car  \n",
       "21524     13127.587             to buy a car  \n",
       "\n",
       "[21525 rows x 12 columns]"
      ]
     },
     "execution_count": 1,
     "metadata": {},
     "output_type": "execute_result"
    }
   ],
   "source": [
    "import pandas as pd\n",
    "credit = pd.read_csv('/datasets/credit_scoring_eng.csv')\n",
    "credit.info()\n",
    "\n",
    "credit"
   ]
  },
  {
   "cell_type": "markdown",
   "metadata": {},
   "source": [
    "### Conclusion"
   ]
  },
  {
   "cell_type": "markdown",
   "metadata": {},
   "source": [
    "The various data types are appropriate for their respective variables, however, we will change the real number data types with the integer types for a cleaner look to the values. Additionally, missing values are noticed in the variables 'days_employed' and 'total_income' which will be addressed below."
   ]
  },
  {
   "cell_type": "markdown",
   "metadata": {},
   "source": [
    "## Data preprocessing"
   ]
  },
  {
   "cell_type": "markdown",
   "metadata": {},
   "source": [
    "### Processing missing values"
   ]
  },
  {
   "cell_type": "code",
   "execution_count": 2,
   "metadata": {
    "scrolled": false
   },
   "outputs": [
    {
     "name": "stdout",
     "output_type": "stream",
     "text": [
      "Average income: 26787.56835465867\n",
      "Median income: 23202.87\n",
      "Average days employed: 63046.49766147338\n",
      "Median days employed: -1203.369528770489\n"
     ]
    }
   ],
   "source": [
    "# locating variables with missing values\n",
    "missing = credit.isnull().sum()\n",
    "missing\n",
    "\n",
    "# analyzing the relationship between 'total_income' average and median to best fill NaN values\n",
    "credit.sort_values(by='total_income', ascending=True)\n",
    "print('Average income: {}'.format(credit['total_income'].mean()))\n",
    "print('Median income: {}'.format(credit['total_income'].median()))\n",
    "\n",
    "# analyzing the relationship between 'days_employed' average and median to best fill NaN values\n",
    "credit.sort_values(by='days_employed', ascending=True)\n",
    "print('Average days employed: {}'.format(credit['days_employed'].mean()))\n",
    "print('Median days employed: {}'.format(credit['days_employed'].median()))\n",
    "\n",
    "# replacing 'total_income' NaN values with median value\n",
    "tot_income_med = credit['total_income'].median()\n",
    "credit['total_income'] = credit['total_income'].fillna(tot_income_med)\n",
    "\n",
    "# replacing 'days_employed' NaN values with median value\n",
    "daysemp_med = credit['days_employed'].median()\n",
    "credit['days_employed'] = credit['days_employed'].fillna(daysemp_med)"
   ]
  },
  {
   "cell_type": "markdown",
   "metadata": {},
   "source": [
    "2.2 Conclusion"
   ]
  },
  {
   "cell_type": "markdown",
   "metadata": {},
   "source": [
    "There are missing values in 'days_employed' and 'total_income'. These missing values were present possibly because the applicant(s) chose some kind of nondisclosure of their income. Additionally, missing values in days_employed could mean choice of nondisclosure or they are unemployed. These actual reason could also be deduced from the applicant's income_type. If I were to replace the NaN values with 0, that would significantly affect the average and median values for 'days_employed' and 'total_income'. I elect to replace the NaN values with each respective column's median value because in each case the median is less than the average which implies that high extreme values are pulling the mean up."
   ]
  },
  {
   "cell_type": "markdown",
   "metadata": {},
   "source": [
    "### Data type replacement"
   ]
  },
  {
   "cell_type": "code",
   "execution_count": 3,
   "metadata": {},
   "outputs": [
    {
     "data": {
      "text/plain": [
       "0     14196\n",
       "1      4818\n",
       "2      2055\n",
       "3       330\n",
       "20       76\n",
       "4        41\n",
       "5         9\n",
       "Name: children, dtype: int64"
      ]
     },
     "execution_count": 3,
     "metadata": {},
     "output_type": "execute_result"
    }
   ],
   "source": [
    "# changing negative values in 'days_employed' to 0 in order to change values to an integer\n",
    "credit.loc[credit['days_employed'] < 0, 'days_employed'] = 0\n",
    "credit['days_employed'] = credit['days_employed'].astype('int64')\n",
    "credit['days_employed']\n",
    "\n",
    "# changing 'total_income' values to an integer\n",
    "credit['total_income'] = credit['total_income'].astype('int64')\n",
    "credit['total_income']\n",
    "\n",
    "# cleaning up values for 'children'\n",
    "credit['children'].value_counts() # looking at unique values for 'children'\n",
    "credit.loc[credit['children'] == -1, 'children'] = 0\n",
    "credit['children'].value_counts() # rechecking unique values"
   ]
  },
  {
   "cell_type": "markdown",
   "metadata": {},
   "source": [
    "### Conclusion"
   ]
  },
  {
   "cell_type": "markdown",
   "metadata": {},
   "source": [
    "The negative values for days_employed were inhibiting me from changing the days to a neat integer, and so I changed the negative values for days_employed to 0. Since I cannot inquire the negative values with the client directly I will consider the negative values as the number of days the applicant has NOT worked and because the column name is called days_employed, 0 seems appropriate. Converting total_income to an integer did not pose any challenges."
   ]
  },
  {
   "cell_type": "markdown",
   "metadata": {},
   "source": [
    "### Processing duplicates"
   ]
  },
  {
   "cell_type": "code",
   "execution_count": 4,
   "metadata": {},
   "outputs": [],
   "source": [
    "# processing duplicates in 'education'\n",
    "credit['education'].value_counts() # looks at unique values in 'education' and their counts\n",
    "credit.loc[credit['education'] == 0, 'education'] = 'None' # converting 0 value placeholder to 'None'\n",
    "credit['education'] = credit['education'].str.lower() # lowercasing all values\n",
    "credit['education'].value_counts() # rechecking unique values\n",
    "\n",
    "# processing duplicates in 'family_status'\n",
    "credit['family_status'].value_counts() # looks at unique values in 'family_status' and their counts\n",
    "credit['family_categorized'] = credit['family_status'] # creating a new family status column for better categorization\n",
    "\n",
    "# processing duplicates in 'income_type'\n",
    "credit['income_type'].value_counts() # looks at unique values in 'income_type' and their counts\n",
    "\n",
    "# processing duplicates in 'purpose'\n",
    "credit['purpose'].value_counts() # looks at unique values in 'purpose' and their counts\n",
    "credit['purpose_categorized'] = credit['purpose'] # creating a new purpose column for better categorization"
   ]
  },
  {
   "cell_type": "markdown",
   "metadata": {},
   "source": [
    "### Conclusion"
   ]
  },
  {
   "cell_type": "markdown",
   "metadata": {},
   "source": [
    "I looked at the categories of the unique values of each object datatype variable and then combined them as appropriate. The variable 'education' had some values that were spelled the same but was selectively capitalized, and so I converted all of the string values to lowercase. Additionally, there were values of 0 for some applicants to which I changed it to 'None' for consistency. The variables 'family_status' and 'income_type' did not have any duplicate values or categories that needed attention.\n",
    "\n",
    "I created a new columns called 'purpose_categorized' from 'purpose' and 'family_categorized' from 'family_status' to better categorize the different (but similar general) categories.\n",
    "\n",
    "All in all, I did not delete any duplicate data because different applicants could be applying for a similar purpose."
   ]
  },
  {
   "cell_type": "markdown",
   "metadata": {},
   "source": [
    "### Categorizing Data"
   ]
  },
  {
   "cell_type": "code",
   "execution_count": 5,
   "metadata": {},
   "outputs": [
    {
     "data": {
      "text/plain": [
       "0     14196\n",
       "1      4818\n",
       "2      2055\n",
       "3       330\n",
       "4+      126\n",
       "Name: children_categorized, dtype: int64"
      ]
     },
     "execution_count": 5,
     "metadata": {},
     "output_type": "execute_result"
    }
   ],
   "source": [
    "# simplifying purposes into a general category\n",
    "# wedding category\n",
    "credit['purpose_categorized'] = credit['purpose_categorized'].replace(['to have a wedding', 'having a wedding', 'wedding ceremony'], 'wedding')\n",
    "\n",
    "# car category\n",
    "credit['purpose_categorized'] = credit['purpose_categorized'].replace(['to buy a car', 'buying a second-hand car','cars', \n",
    "                                                                       'second-hand car purchase', 'to own a car', 'purchase of a car',\n",
    "                                                                       'buying my own car', 'car purchase'], 'car')\n",
    "# education category\n",
    "credit['purpose_categorized'] = credit['purpose_categorized'].replace(['going to university', 'supplementary education', 'to get a supplementary education',\n",
    "                                                                      'getting an education', 'university education', 'profile education',\n",
    "                                                                      'getting higher education', 'to become educated'], 'education')\n",
    "# real estate category\n",
    "credit['purpose_categorized'] = credit['purpose_categorized'].replace(['real estate transaction', 'building a real estate', 'transactions with commercial real estate',\n",
    "                                                                      'buy commercial real estate', 'buying property for renting out', 'buy real estate',\n",
    "                                                                      'transactions with my real estate', 'housing transactions', 'building a property',\n",
    "                                                                      'property', 'buy residential real estate', 'real estate transactions'], 'real estate')\n",
    "# housing category\n",
    "credit['purpose_categorized'] = credit['purpose_categorized'].replace(['purchase of the house', 'purchase of the house for my family',\n",
    "                                                                      'construction of own property', 'housing renovation', 'purchase of my own house'], 'housing')\n",
    "    \n",
    "credit['purpose_categorized'].value_counts() # rechecking unique values\n",
    "\n",
    "# simplifying family statuses\n",
    "credit.loc[credit['family_categorized'] == 'civil partnership', 'family_categorized'] = 'unmarried'\n",
    "credit['family_categorized'].value_counts()\n",
    "\n",
    "# grouping total_income within certain ranges\n",
    "def assign_income_group(row):\n",
    "    assign_income = row['total_income']\n",
    "    if 0 <= assign_income <= 10000:\n",
    "        return '$0-$10,000'\n",
    "    if 10001 <= assign_income <= 20000:\n",
    "        return '$10,001-$20,000'\n",
    "    if 20001 <= assign_income <= 30000:\n",
    "        return '$20,001-$30,000'\n",
    "    if 30001 <= assign_income <= 40000:\n",
    "        return '$30,001-$40,000'\n",
    "    return '$40,001-$50,000'\n",
    "        \n",
    "credit['tot_income_categorized'] = credit.apply(assign_income_group, axis=1)\n",
    "credit['tot_income_categorized'].value_counts()\n",
    "\n",
    "# simplifying number of children\n",
    "def assign_child_group(row):\n",
    "    assign_child = row['children']\n",
    "    if assign_child == 0:\n",
    "        return '0'\n",
    "    if assign_child == 1:\n",
    "        return '1'\n",
    "    if assign_child == 2:\n",
    "        return '2'\n",
    "    if assign_child == 3:\n",
    "        return '3'\n",
    "    return '4+'\n",
    "\n",
    "credit['children_categorized'] = credit.apply(assign_child_group, axis=1)\n",
    "credit['children_categorized'].value_counts()"
   ]
  },
  {
   "cell_type": "markdown",
   "metadata": {},
   "source": [
    "### Conclusion"
   ]
  },
  {
   "cell_type": "markdown",
   "metadata": {},
   "source": [
    "There were different ways to describe the same category for the applicant's purpose for a loan so I changed the string value to a certain category based on the description. As for the categorization of family, I reduced the number of categories. I also chose to categorize applicant's 'total_income' in certain ranges since there were so many income specificities. The variable 'children' were better categorized since there was a small sample size of each once applicants claimed they had more than 3 children."
   ]
  },
  {
   "cell_type": "markdown",
   "metadata": {},
   "source": [
    "## Answer these questions"
   ]
  },
  {
   "cell_type": "markdown",
   "metadata": {},
   "source": [
    "- Is there a relation between having kids and repaying a loan on time?"
   ]
  },
  {
   "cell_type": "code",
   "execution_count": 6,
   "metadata": {},
   "outputs": [
    {
     "data": {
      "text/html": [
       "<div>\n",
       "<style scoped>\n",
       "    .dataframe tbody tr th:only-of-type {\n",
       "        vertical-align: middle;\n",
       "    }\n",
       "\n",
       "    .dataframe tbody tr th {\n",
       "        vertical-align: top;\n",
       "    }\n",
       "\n",
       "    .dataframe thead th {\n",
       "        text-align: right;\n",
       "    }\n",
       "</style>\n",
       "<table border=\"1\" class=\"dataframe\">\n",
       "  <thead>\n",
       "    <tr style=\"text-align: right;\">\n",
       "      <th></th>\n",
       "      <th>debt</th>\n",
       "    </tr>\n",
       "    <tr>\n",
       "      <th>children_categorized</th>\n",
       "      <th></th>\n",
       "    </tr>\n",
       "  </thead>\n",
       "  <tbody>\n",
       "    <tr>\n",
       "      <td>0</td>\n",
       "      <td>1064</td>\n",
       "    </tr>\n",
       "    <tr>\n",
       "      <td>1</td>\n",
       "      <td>444</td>\n",
       "    </tr>\n",
       "    <tr>\n",
       "      <td>2</td>\n",
       "      <td>194</td>\n",
       "    </tr>\n",
       "    <tr>\n",
       "      <td>3</td>\n",
       "      <td>27</td>\n",
       "    </tr>\n",
       "    <tr>\n",
       "      <td>4+</td>\n",
       "      <td>12</td>\n",
       "    </tr>\n",
       "  </tbody>\n",
       "</table>\n",
       "</div>"
      ],
      "text/plain": [
       "                      debt\n",
       "children_categorized      \n",
       "0                     1064\n",
       "1                      444\n",
       "2                      194\n",
       "3                       27\n",
       "4+                      12"
      ]
     },
     "execution_count": 6,
     "metadata": {},
     "output_type": "execute_result"
    }
   ],
   "source": [
    "# creating pivot table to compare 'debt' and 'children'\n",
    "debt_children_pivot = credit.pivot_table(index='children_categorized', values='debt', aggfunc='sum')\n",
    "debt_children_pivot"
   ]
  },
  {
   "cell_type": "markdown",
   "metadata": {},
   "source": [
    "### Conclusion"
   ]
  },
  {
   "cell_type": "markdown",
   "metadata": {},
   "source": [
    "According to the data, the more children a family has the more likely an applicant will repay a loan on time."
   ]
  },
  {
   "cell_type": "markdown",
   "metadata": {},
   "source": [
    "- Is there a relation between marital status and repaying a loan on time?"
   ]
  },
  {
   "cell_type": "code",
   "execution_count": 7,
   "metadata": {},
   "outputs": [
    {
     "data": {
      "text/html": [
       "<div>\n",
       "<style scoped>\n",
       "    .dataframe tbody tr th:only-of-type {\n",
       "        vertical-align: middle;\n",
       "    }\n",
       "\n",
       "    .dataframe tbody tr th {\n",
       "        vertical-align: top;\n",
       "    }\n",
       "\n",
       "    .dataframe thead th {\n",
       "        text-align: right;\n",
       "    }\n",
       "</style>\n",
       "<table border=\"1\" class=\"dataframe\">\n",
       "  <thead>\n",
       "    <tr style=\"text-align: right;\">\n",
       "      <th></th>\n",
       "      <th>debt</th>\n",
       "    </tr>\n",
       "    <tr>\n",
       "      <th>family_categorized</th>\n",
       "      <th></th>\n",
       "    </tr>\n",
       "  </thead>\n",
       "  <tbody>\n",
       "    <tr>\n",
       "      <td>divorced</td>\n",
       "      <td>85</td>\n",
       "    </tr>\n",
       "    <tr>\n",
       "      <td>married</td>\n",
       "      <td>931</td>\n",
       "    </tr>\n",
       "    <tr>\n",
       "      <td>unmarried</td>\n",
       "      <td>662</td>\n",
       "    </tr>\n",
       "    <tr>\n",
       "      <td>widow / widower</td>\n",
       "      <td>63</td>\n",
       "    </tr>\n",
       "  </tbody>\n",
       "</table>\n",
       "</div>"
      ],
      "text/plain": [
       "                    debt\n",
       "family_categorized      \n",
       "divorced              85\n",
       "married              931\n",
       "unmarried            662\n",
       "widow / widower       63"
      ]
     },
     "execution_count": 7,
     "metadata": {},
     "output_type": "execute_result"
    }
   ],
   "source": [
    "marital_debt_pivot = credit.pivot_table(index='family_categorized', values='debt', aggfunc='sum')\n",
    "marital_debt_pivot"
   ]
  },
  {
   "cell_type": "markdown",
   "metadata": {},
   "source": [
    "### Conclusion"
   ]
  },
  {
   "cell_type": "markdown",
   "metadata": {},
   "source": [
    "According to the data, applicants who are married or unmarried are less likely to repay a loan on time as compared to applicants who are divorced or widowed."
   ]
  },
  {
   "cell_type": "markdown",
   "metadata": {},
   "source": [
    "- Is there a relation between income level and repaying a loan on time?"
   ]
  },
  {
   "cell_type": "code",
   "execution_count": 8,
   "metadata": {},
   "outputs": [
    {
     "data": {
      "text/html": [
       "<div>\n",
       "<style scoped>\n",
       "    .dataframe tbody tr th:only-of-type {\n",
       "        vertical-align: middle;\n",
       "    }\n",
       "\n",
       "    .dataframe tbody tr th {\n",
       "        vertical-align: top;\n",
       "    }\n",
       "\n",
       "    .dataframe thead th {\n",
       "        text-align: right;\n",
       "    }\n",
       "</style>\n",
       "<table border=\"1\" class=\"dataframe\">\n",
       "  <thead>\n",
       "    <tr style=\"text-align: right;\">\n",
       "      <th></th>\n",
       "      <th>debt</th>\n",
       "    </tr>\n",
       "    <tr>\n",
       "      <th>tot_income_categorized</th>\n",
       "      <th></th>\n",
       "    </tr>\n",
       "  </thead>\n",
       "  <tbody>\n",
       "    <tr>\n",
       "      <td>$0-$10,000</td>\n",
       "      <td>58</td>\n",
       "    </tr>\n",
       "    <tr>\n",
       "      <td>$10,001-$20,000</td>\n",
       "      <td>550</td>\n",
       "    </tr>\n",
       "    <tr>\n",
       "      <td>$20,001-$30,000</td>\n",
       "      <td>697</td>\n",
       "    </tr>\n",
       "    <tr>\n",
       "      <td>$30,001-$40,000</td>\n",
       "      <td>242</td>\n",
       "    </tr>\n",
       "    <tr>\n",
       "      <td>$40,001-$50,000</td>\n",
       "      <td>194</td>\n",
       "    </tr>\n",
       "  </tbody>\n",
       "</table>\n",
       "</div>"
      ],
      "text/plain": [
       "                        debt\n",
       "tot_income_categorized      \n",
       "$0-$10,000                58\n",
       "$10,001-$20,000          550\n",
       "$20,001-$30,000          697\n",
       "$30,001-$40,000          242\n",
       "$40,001-$50,000          194"
      ]
     },
     "execution_count": 8,
     "metadata": {},
     "output_type": "execute_result"
    }
   ],
   "source": [
    "income_debt_pivot = credit.pivot_table(index='tot_income_categorized', values='debt', aggfunc='sum')\n",
    "income_debt_pivot"
   ]
  },
  {
   "cell_type": "markdown",
   "metadata": {},
   "source": [
    "### Conclusion"
   ]
  },
  {
   "cell_type": "markdown",
   "metadata": {},
   "source": [
    "According to the data, applicants that have a total income between $10,001-$30,000 are less likely to repay a loan on time. Applicants making between $30,001-$50,000 are also not likely to repay a loan on time, however not as much as the aforementioned applicants. The applicants that have a higher possibility of repaying a loan on time have a total income of up to $10,000."
   ]
  },
  {
   "cell_type": "markdown",
   "metadata": {},
   "source": [
    "- How do different loan purposes affect on-time repayment of the loan?"
   ]
  },
  {
   "cell_type": "code",
   "execution_count": 9,
   "metadata": {},
   "outputs": [
    {
     "data": {
      "text/html": [
       "<div>\n",
       "<style scoped>\n",
       "    .dataframe tbody tr th:only-of-type {\n",
       "        vertical-align: middle;\n",
       "    }\n",
       "\n",
       "    .dataframe tbody tr th {\n",
       "        vertical-align: top;\n",
       "    }\n",
       "\n",
       "    .dataframe thead th {\n",
       "        text-align: right;\n",
       "    }\n",
       "</style>\n",
       "<table border=\"1\" class=\"dataframe\">\n",
       "  <thead>\n",
       "    <tr style=\"text-align: right;\">\n",
       "      <th></th>\n",
       "      <th>debt</th>\n",
       "    </tr>\n",
       "    <tr>\n",
       "      <th>purpose_categorized</th>\n",
       "      <th></th>\n",
       "    </tr>\n",
       "  </thead>\n",
       "  <tbody>\n",
       "    <tr>\n",
       "      <td>car</td>\n",
       "      <td>403</td>\n",
       "    </tr>\n",
       "    <tr>\n",
       "      <td>education</td>\n",
       "      <td>370</td>\n",
       "    </tr>\n",
       "    <tr>\n",
       "      <td>housing</td>\n",
       "      <td>250</td>\n",
       "    </tr>\n",
       "    <tr>\n",
       "      <td>real estate</td>\n",
       "      <td>532</td>\n",
       "    </tr>\n",
       "    <tr>\n",
       "      <td>wedding</td>\n",
       "      <td>186</td>\n",
       "    </tr>\n",
       "  </tbody>\n",
       "</table>\n",
       "</div>"
      ],
      "text/plain": [
       "                     debt\n",
       "purpose_categorized      \n",
       "car                   403\n",
       "education             370\n",
       "housing               250\n",
       "real estate           532\n",
       "wedding               186"
      ]
     },
     "execution_count": 9,
     "metadata": {},
     "output_type": "execute_result"
    }
   ],
   "source": [
    "purpose_debt_pivot = credit.pivot_table(index='purpose_categorized', values='debt', aggfunc='sum')\n",
    "purpose_debt_pivot"
   ]
  },
  {
   "cell_type": "markdown",
   "metadata": {},
   "source": [
    "### Conclusion"
   ]
  },
  {
   "cell_type": "markdown",
   "metadata": {},
   "source": [
    "Applicants that apply for a loan, from most likely to least likely to repay a particular loan on time, are: wedding, housing, education, car, real estate."
   ]
  }
 ],
 "metadata": {
  "hide_input": false,
  "kernelspec": {
   "display_name": "Python 3",
   "language": "python",
   "name": "python3"
  },
  "language_info": {
   "codemirror_mode": {
    "name": "ipython",
    "version": 3
   },
   "file_extension": ".py",
   "mimetype": "text/x-python",
   "name": "python",
   "nbconvert_exporter": "python",
   "pygments_lexer": "ipython3",
   "version": "3.8.5"
  },
  "toc": {
   "base_numbering": 1,
   "nav_menu": {},
   "number_sections": true,
   "sideBar": true,
   "skip_h1_title": true,
   "title_cell": "Table of Contents",
   "title_sidebar": "Contents",
   "toc_cell": false,
   "toc_position": {},
   "toc_section_display": true,
   "toc_window_display": true
  }
 },
 "nbformat": 4,
 "nbformat_minor": 2
}
